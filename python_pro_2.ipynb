{
 "cells": [
  {
   "cell_type": "code",
   "execution_count": 1,
   "metadata": {},
   "outputs": [],
   "source": [
    "import pandas as pd\n",
    "import numpy as np\n",
    "import seaborn as sns\n",
    "import matplotlib.pyplot as plt\n",
    "import datetime"
   ]
  },
  {
   "cell_type": "code",
   "execution_count": 41,
   "metadata": {},
   "outputs": [
    {
     "data": {
      "text/html": [
       "<div>\n",
       "<style scoped>\n",
       "    .dataframe tbody tr th:only-of-type {\n",
       "        vertical-align: middle;\n",
       "    }\n",
       "\n",
       "    .dataframe tbody tr th {\n",
       "        vertical-align: top;\n",
       "    }\n",
       "\n",
       "    .dataframe thead th {\n",
       "        text-align: right;\n",
       "    }\n",
       "</style>\n",
       "<table border=\"1\" class=\"dataframe\">\n",
       "  <thead>\n",
       "    <tr style=\"text-align: right;\">\n",
       "      <th></th>\n",
       "      <th>InvoiceNo</th>\n",
       "      <th>StockCode</th>\n",
       "      <th>Description</th>\n",
       "      <th>Quantity</th>\n",
       "      <th>InvoiceDate</th>\n",
       "      <th>UnitPrice</th>\n",
       "      <th>CustomerID</th>\n",
       "      <th>Country</th>\n",
       "    </tr>\n",
       "  </thead>\n",
       "  <tbody>\n",
       "    <tr>\n",
       "      <th>0</th>\n",
       "      <td>536365</td>\n",
       "      <td>85123A</td>\n",
       "      <td>WHITE HANGING HEART T-LIGHT HOLDER</td>\n",
       "      <td>6</td>\n",
       "      <td>12-01-10 8:26</td>\n",
       "      <td>2.55</td>\n",
       "      <td>17850.0</td>\n",
       "      <td>United Kingdom</td>\n",
       "    </tr>\n",
       "    <tr>\n",
       "      <th>1</th>\n",
       "      <td>536365</td>\n",
       "      <td>71053</td>\n",
       "      <td>WHITE METAL LANTERN</td>\n",
       "      <td>6</td>\n",
       "      <td>12-01-10 8:26</td>\n",
       "      <td>3.39</td>\n",
       "      <td>17850.0</td>\n",
       "      <td>United Kingdom</td>\n",
       "    </tr>\n",
       "    <tr>\n",
       "      <th>2</th>\n",
       "      <td>536365</td>\n",
       "      <td>84406B</td>\n",
       "      <td>CREAM CUPID HEARTS COAT HANGER</td>\n",
       "      <td>8</td>\n",
       "      <td>12-01-10 8:26</td>\n",
       "      <td>2.75</td>\n",
       "      <td>17850.0</td>\n",
       "      <td>United Kingdom</td>\n",
       "    </tr>\n",
       "    <tr>\n",
       "      <th>3</th>\n",
       "      <td>536365</td>\n",
       "      <td>84029G</td>\n",
       "      <td>KNITTED UNION FLAG HOT WATER BOTTLE</td>\n",
       "      <td>6</td>\n",
       "      <td>12-01-10 8:26</td>\n",
       "      <td>3.39</td>\n",
       "      <td>17850.0</td>\n",
       "      <td>United Kingdom</td>\n",
       "    </tr>\n",
       "    <tr>\n",
       "      <th>4</th>\n",
       "      <td>536365</td>\n",
       "      <td>84029E</td>\n",
       "      <td>RED WOOLLY HOTTIE WHITE HEART.</td>\n",
       "      <td>6</td>\n",
       "      <td>12-01-10 8:26</td>\n",
       "      <td>3.39</td>\n",
       "      <td>17850.0</td>\n",
       "      <td>United Kingdom</td>\n",
       "    </tr>\n",
       "    <tr>\n",
       "      <th>...</th>\n",
       "      <td>...</td>\n",
       "      <td>...</td>\n",
       "      <td>...</td>\n",
       "      <td>...</td>\n",
       "      <td>...</td>\n",
       "      <td>...</td>\n",
       "      <td>...</td>\n",
       "      <td>...</td>\n",
       "    </tr>\n",
       "    <tr>\n",
       "      <th>541904</th>\n",
       "      <td>581587</td>\n",
       "      <td>22613</td>\n",
       "      <td>PACK OF 20 SPACEBOY NAPKINS</td>\n",
       "      <td>12</td>\n",
       "      <td>12-09-11 12:50</td>\n",
       "      <td>0.85</td>\n",
       "      <td>12680.0</td>\n",
       "      <td>France</td>\n",
       "    </tr>\n",
       "    <tr>\n",
       "      <th>541905</th>\n",
       "      <td>581587</td>\n",
       "      <td>22899</td>\n",
       "      <td>CHILDREN'S APRON DOLLY GIRL</td>\n",
       "      <td>6</td>\n",
       "      <td>12-09-11 12:50</td>\n",
       "      <td>2.10</td>\n",
       "      <td>12680.0</td>\n",
       "      <td>France</td>\n",
       "    </tr>\n",
       "    <tr>\n",
       "      <th>541906</th>\n",
       "      <td>581587</td>\n",
       "      <td>23254</td>\n",
       "      <td>CHILDRENS CUTLERY DOLLY GIRL</td>\n",
       "      <td>4</td>\n",
       "      <td>12-09-11 12:50</td>\n",
       "      <td>4.15</td>\n",
       "      <td>12680.0</td>\n",
       "      <td>France</td>\n",
       "    </tr>\n",
       "    <tr>\n",
       "      <th>541907</th>\n",
       "      <td>581587</td>\n",
       "      <td>23255</td>\n",
       "      <td>CHILDRENS CUTLERY CIRCUS PARADE</td>\n",
       "      <td>4</td>\n",
       "      <td>12-09-11 12:50</td>\n",
       "      <td>4.15</td>\n",
       "      <td>12680.0</td>\n",
       "      <td>France</td>\n",
       "    </tr>\n",
       "    <tr>\n",
       "      <th>541908</th>\n",
       "      <td>581587</td>\n",
       "      <td>22138</td>\n",
       "      <td>BAKING SET 9 PIECE RETROSPOT</td>\n",
       "      <td>3</td>\n",
       "      <td>12-09-11 12:50</td>\n",
       "      <td>4.95</td>\n",
       "      <td>12680.0</td>\n",
       "      <td>France</td>\n",
       "    </tr>\n",
       "  </tbody>\n",
       "</table>\n",
       "<p>541909 rows × 8 columns</p>\n",
       "</div>"
      ],
      "text/plain": [
       "       InvoiceNo StockCode                          Description  Quantity  \\\n",
       "0         536365    85123A   WHITE HANGING HEART T-LIGHT HOLDER         6   \n",
       "1         536365     71053                  WHITE METAL LANTERN         6   \n",
       "2         536365    84406B       CREAM CUPID HEARTS COAT HANGER         8   \n",
       "3         536365    84029G  KNITTED UNION FLAG HOT WATER BOTTLE         6   \n",
       "4         536365    84029E       RED WOOLLY HOTTIE WHITE HEART.         6   \n",
       "...          ...       ...                                  ...       ...   \n",
       "541904    581587     22613          PACK OF 20 SPACEBOY NAPKINS        12   \n",
       "541905    581587     22899         CHILDREN'S APRON DOLLY GIRL          6   \n",
       "541906    581587     23254        CHILDRENS CUTLERY DOLLY GIRL          4   \n",
       "541907    581587     23255      CHILDRENS CUTLERY CIRCUS PARADE         4   \n",
       "541908    581587     22138        BAKING SET 9 PIECE RETROSPOT          3   \n",
       "\n",
       "           InvoiceDate  UnitPrice  CustomerID         Country  \n",
       "0        12-01-10 8:26       2.55     17850.0  United Kingdom  \n",
       "1        12-01-10 8:26       3.39     17850.0  United Kingdom  \n",
       "2        12-01-10 8:26       2.75     17850.0  United Kingdom  \n",
       "3        12-01-10 8:26       3.39     17850.0  United Kingdom  \n",
       "4        12-01-10 8:26       3.39     17850.0  United Kingdom  \n",
       "...                ...        ...         ...             ...  \n",
       "541904  12-09-11 12:50       0.85     12680.0          France  \n",
       "541905  12-09-11 12:50       2.10     12680.0          France  \n",
       "541906  12-09-11 12:50       4.15     12680.0          France  \n",
       "541907  12-09-11 12:50       4.15     12680.0          France  \n",
       "541908  12-09-11 12:50       4.95     12680.0          France  \n",
       "\n",
       "[541909 rows x 8 columns]"
      ]
     },
     "execution_count": 41,
     "metadata": {},
     "output_type": "execute_result"
    }
   ],
   "source": [
    "df=pd.read_csv(\"ecommerce_data.csv\",encoding='ISO-8859-1')\n",
    "df"
   ]
  },
  {
   "cell_type": "code",
   "execution_count": 3,
   "metadata": {},
   "outputs": [
    {
     "name": "stdout",
     "output_type": "stream",
     "text": [
      "<class 'pandas.core.frame.DataFrame'>\n",
      "RangeIndex: 541909 entries, 0 to 541908\n",
      "Data columns (total 8 columns):\n",
      " #   Column       Non-Null Count   Dtype  \n",
      "---  ------       --------------   -----  \n",
      " 0   InvoiceNo    541909 non-null  object \n",
      " 1   StockCode    541909 non-null  object \n",
      " 2   Description  540455 non-null  object \n",
      " 3   Quantity     541909 non-null  int64  \n",
      " 4   InvoiceDate  541909 non-null  object \n",
      " 5   UnitPrice    541909 non-null  float64\n",
      " 6   CustomerID   406829 non-null  float64\n",
      " 7   Country      541909 non-null  object \n",
      "dtypes: float64(2), int64(1), object(5)\n",
      "memory usage: 22.7+ MB\n"
     ]
    }
   ],
   "source": [
    "df.info()"
   ]
  },
  {
   "cell_type": "markdown",
   "metadata": {},
   "source": [
    "# 1. Perform Basic EDA\n",
    "# a. Boxplot – All Numeric Variables "
   ]
  },
  {
   "cell_type": "code",
   "execution_count": 4,
   "metadata": {},
   "outputs": [
    {
     "data": {
      "image/png": "[encoded data removed]",
      "text/plain": [
       "<Figure size 432x288 with 1 Axes>"
      ]
     },
     "metadata": {
      "needs_background": "light"
     },
     "output_type": "display_data"
    }
   ],
   "source": [
    "df[['InvoiceNo','StockCode','Quantity','UnitPrice','CustomerID']].plot.box(vert = False, grid = True);"
   ]
  },
  {
   "cell_type": "markdown",
   "metadata": {},
   "source": [
    "# b. Histogram – All Numeric Variables "
   ]
  },
  {
   "cell_type": "code",
   "execution_count": 5,
   "metadata": {},
   "outputs": [
    {
     "data": {
      "image/png": "[encoded data removed]",
      "text/plain": [
       "<Figure size 432x288 with 4 Axes>"
      ]
     },
     "metadata": {
      "needs_background": "light"
     },
     "output_type": "display_data"
    }
   ],
   "source": [
    "df.hist();"
   ]
  },
  {
   "cell_type": "markdown",
   "metadata": {},
   "source": [
    "# c. Distribution Plot – All Numeric Variables "
   ]
  },
  {
   "cell_type": "code",
   "execution_count": 6,
   "metadata": {},
   "outputs": [
    {
     "data": {
      "image/png": "[encoded data removed]",
      "text/plain": [
       "<Figure size 432x288 with 1 Axes>"
      ]
     },
     "metadata": {
      "needs_background": "light"
     },
     "output_type": "display_data"
    }
   ],
   "source": [
    "df[['Quantity','UnitPrice','CustomerID']].plot.hist();"
   ]
  },
  {
   "cell_type": "markdown",
   "metadata": {},
   "source": [
    "# d. Aggregation for all numerical Columns"
   ]
  },
  {
   "cell_type": "code",
   "execution_count": 7,
   "metadata": {},
   "outputs": [
    {
     "data": {
      "text/html": [
       "<div>\n",
       "<style scoped>\n",
       "    .dataframe tbody tr th:only-of-type {\n",
       "        vertical-align: middle;\n",
       "    }\n",
       "\n",
       "    .dataframe tbody tr th {\n",
       "        vertical-align: top;\n",
       "    }\n",
       "\n",
       "    .dataframe thead th {\n",
       "        text-align: right;\n",
       "    }\n",
       "</style>\n",
       "<table border=\"1\" class=\"dataframe\">\n",
       "  <thead>\n",
       "    <tr style=\"text-align: right;\">\n",
       "      <th></th>\n",
       "      <th>Quantity</th>\n",
       "      <th>UnitPrice</th>\n",
       "      <th>CustomerID</th>\n",
       "    </tr>\n",
       "  </thead>\n",
       "  <tbody>\n",
       "    <tr>\n",
       "      <th>sum</th>\n",
       "      <td>5176450</td>\n",
       "      <td>2498803.974</td>\n",
       "      <td>6.219476e+09</td>\n",
       "    </tr>\n",
       "    <tr>\n",
       "      <th>min</th>\n",
       "      <td>-80995</td>\n",
       "      <td>-11062.060</td>\n",
       "      <td>1.234600e+04</td>\n",
       "    </tr>\n",
       "    <tr>\n",
       "      <th>max</th>\n",
       "      <td>80995</td>\n",
       "      <td>38970.000</td>\n",
       "      <td>1.828700e+04</td>\n",
       "    </tr>\n",
       "  </tbody>\n",
       "</table>\n",
       "</div>"
      ],
      "text/plain": [
       "     Quantity    UnitPrice    CustomerID\n",
       "sum   5176450  2498803.974  6.219476e+09\n",
       "min    -80995   -11062.060  1.234600e+04\n",
       "max     80995    38970.000  1.828700e+04"
      ]
     },
     "execution_count": 7,
     "metadata": {},
     "output_type": "execute_result"
    }
   ],
   "source": [
    "df.aggregate({\"Quantity\":['sum','min','max'],\n",
    "             \"UnitPrice\":['sum','min','max'],\n",
    "             \"CustomerID\":['sum','min','max'], \n",
    "             })\n"
   ]
  },
  {
   "cell_type": "markdown",
   "metadata": {},
   "source": [
    "# e. Unique Values across all columns"
   ]
  },
  {
   "cell_type": "code",
   "execution_count": 8,
   "metadata": {},
   "outputs": [
    {
     "name": "stdout",
     "output_type": "stream",
     "text": [
      "[-80995.   -74215.   -11062.06 ...       nan       nan       nan]\n"
     ]
    }
   ],
   "source": [
    "value=df[['Quantity','UnitPrice','CustomerID']].values\n",
    "valuex= np.unique(value)\n",
    "print(valuex)\n"
   ]
  },
  {
   "cell_type": "markdown",
   "metadata": {},
   "source": [
    "# f. Duplicate values across all columns "
   ]
  },
  {
   "cell_type": "code",
   "execution_count": 9,
   "metadata": {},
   "outputs": [
    {
     "data": {
      "text/html": [
       "<div>\n",
       "<style scoped>\n",
       "    .dataframe tbody tr th:only-of-type {\n",
       "        vertical-align: middle;\n",
       "    }\n",
       "\n",
       "    .dataframe tbody tr th {\n",
       "        vertical-align: top;\n",
       "    }\n",
       "\n",
       "    .dataframe thead th {\n",
       "        text-align: right;\n",
       "    }\n",
       "</style>\n",
       "<table border=\"1\" class=\"dataframe\">\n",
       "  <thead>\n",
       "    <tr style=\"text-align: right;\">\n",
       "      <th></th>\n",
       "      <th>InvoiceNo</th>\n",
       "      <th>StockCode</th>\n",
       "      <th>Description</th>\n",
       "      <th>Quantity</th>\n",
       "      <th>InvoiceDate</th>\n",
       "      <th>UnitPrice</th>\n",
       "      <th>CustomerID</th>\n",
       "      <th>Country</th>\n",
       "    </tr>\n",
       "  </thead>\n",
       "  <tbody>\n",
       "    <tr>\n",
       "      <th>517</th>\n",
       "      <td>536409</td>\n",
       "      <td>21866</td>\n",
       "      <td>UNION JACK FLAG LUGGAGE TAG</td>\n",
       "      <td>1</td>\n",
       "      <td>12-01-10 11:45</td>\n",
       "      <td>1.25</td>\n",
       "      <td>17908.0</td>\n",
       "      <td>United Kingdom</td>\n",
       "    </tr>\n",
       "    <tr>\n",
       "      <th>527</th>\n",
       "      <td>536409</td>\n",
       "      <td>22866</td>\n",
       "      <td>HAND WARMER SCOTTY DOG DESIGN</td>\n",
       "      <td>1</td>\n",
       "      <td>12-01-10 11:45</td>\n",
       "      <td>2.10</td>\n",
       "      <td>17908.0</td>\n",
       "      <td>United Kingdom</td>\n",
       "    </tr>\n",
       "    <tr>\n",
       "      <th>537</th>\n",
       "      <td>536409</td>\n",
       "      <td>22900</td>\n",
       "      <td>SET 2 TEA TOWELS I LOVE LONDON</td>\n",
       "      <td>1</td>\n",
       "      <td>12-01-10 11:45</td>\n",
       "      <td>2.95</td>\n",
       "      <td>17908.0</td>\n",
       "      <td>United Kingdom</td>\n",
       "    </tr>\n",
       "    <tr>\n",
       "      <th>539</th>\n",
       "      <td>536409</td>\n",
       "      <td>22111</td>\n",
       "      <td>SCOTTIE DOG HOT WATER BOTTLE</td>\n",
       "      <td>1</td>\n",
       "      <td>12-01-10 11:45</td>\n",
       "      <td>4.95</td>\n",
       "      <td>17908.0</td>\n",
       "      <td>United Kingdom</td>\n",
       "    </tr>\n",
       "    <tr>\n",
       "      <th>555</th>\n",
       "      <td>536412</td>\n",
       "      <td>22327</td>\n",
       "      <td>ROUND SNACK BOXES SET OF 4 SKULLS</td>\n",
       "      <td>1</td>\n",
       "      <td>12-01-10 11:49</td>\n",
       "      <td>2.95</td>\n",
       "      <td>17920.0</td>\n",
       "      <td>United Kingdom</td>\n",
       "    </tr>\n",
       "    <tr>\n",
       "      <th>...</th>\n",
       "      <td>...</td>\n",
       "      <td>...</td>\n",
       "      <td>...</td>\n",
       "      <td>...</td>\n",
       "      <td>...</td>\n",
       "      <td>...</td>\n",
       "      <td>...</td>\n",
       "      <td>...</td>\n",
       "    </tr>\n",
       "    <tr>\n",
       "      <th>541675</th>\n",
       "      <td>581538</td>\n",
       "      <td>22068</td>\n",
       "      <td>BLACK PIRATE TREASURE CHEST</td>\n",
       "      <td>1</td>\n",
       "      <td>12-09-11 11:34</td>\n",
       "      <td>0.39</td>\n",
       "      <td>14446.0</td>\n",
       "      <td>United Kingdom</td>\n",
       "    </tr>\n",
       "    <tr>\n",
       "      <th>541689</th>\n",
       "      <td>581538</td>\n",
       "      <td>23318</td>\n",
       "      <td>BOX OF 6 MINI VINTAGE CRACKERS</td>\n",
       "      <td>1</td>\n",
       "      <td>12-09-11 11:34</td>\n",
       "      <td>2.49</td>\n",
       "      <td>14446.0</td>\n",
       "      <td>United Kingdom</td>\n",
       "    </tr>\n",
       "    <tr>\n",
       "      <th>541692</th>\n",
       "      <td>581538</td>\n",
       "      <td>22992</td>\n",
       "      <td>REVOLVER WOODEN RULER</td>\n",
       "      <td>1</td>\n",
       "      <td>12-09-11 11:34</td>\n",
       "      <td>1.95</td>\n",
       "      <td>14446.0</td>\n",
       "      <td>United Kingdom</td>\n",
       "    </tr>\n",
       "    <tr>\n",
       "      <th>541699</th>\n",
       "      <td>581538</td>\n",
       "      <td>22694</td>\n",
       "      <td>WICKER STAR</td>\n",
       "      <td>1</td>\n",
       "      <td>12-09-11 11:34</td>\n",
       "      <td>2.10</td>\n",
       "      <td>14446.0</td>\n",
       "      <td>United Kingdom</td>\n",
       "    </tr>\n",
       "    <tr>\n",
       "      <th>541701</th>\n",
       "      <td>581538</td>\n",
       "      <td>23343</td>\n",
       "      <td>JUMBO BAG VINTAGE CHRISTMAS</td>\n",
       "      <td>1</td>\n",
       "      <td>12-09-11 11:34</td>\n",
       "      <td>2.08</td>\n",
       "      <td>14446.0</td>\n",
       "      <td>United Kingdom</td>\n",
       "    </tr>\n",
       "  </tbody>\n",
       "</table>\n",
       "<p>5268 rows × 8 columns</p>\n",
       "</div>"
      ],
      "text/plain": [
       "       InvoiceNo StockCode                        Description  Quantity  \\\n",
       "517       536409     21866        UNION JACK FLAG LUGGAGE TAG         1   \n",
       "527       536409     22866      HAND WARMER SCOTTY DOG DESIGN         1   \n",
       "537       536409     22900    SET 2 TEA TOWELS I LOVE LONDON          1   \n",
       "539       536409     22111       SCOTTIE DOG HOT WATER BOTTLE         1   \n",
       "555       536412     22327  ROUND SNACK BOXES SET OF 4 SKULLS         1   \n",
       "...          ...       ...                                ...       ...   \n",
       "541675    581538     22068        BLACK PIRATE TREASURE CHEST         1   \n",
       "541689    581538     23318     BOX OF 6 MINI VINTAGE CRACKERS         1   \n",
       "541692    581538     22992             REVOLVER WOODEN RULER          1   \n",
       "541699    581538     22694                       WICKER STAR          1   \n",
       "541701    581538     23343       JUMBO BAG VINTAGE CHRISTMAS          1   \n",
       "\n",
       "           InvoiceDate  UnitPrice  CustomerID         Country  \n",
       "517     12-01-10 11:45       1.25     17908.0  United Kingdom  \n",
       "527     12-01-10 11:45       2.10     17908.0  United Kingdom  \n",
       "537     12-01-10 11:45       2.95     17908.0  United Kingdom  \n",
       "539     12-01-10 11:45       4.95     17908.0  United Kingdom  \n",
       "555     12-01-10 11:49       2.95     17920.0  United Kingdom  \n",
       "...                ...        ...         ...             ...  \n",
       "541675  12-09-11 11:34       0.39     14446.0  United Kingdom  \n",
       "541689  12-09-11 11:34       2.49     14446.0  United Kingdom  \n",
       "541692  12-09-11 11:34       1.95     14446.0  United Kingdom  \n",
       "541699  12-09-11 11:34       2.10     14446.0  United Kingdom  \n",
       "541701  12-09-11 11:34       2.08     14446.0  United Kingdom  \n",
       "\n",
       "[5268 rows x 8 columns]"
      ]
     },
     "execution_count": 9,
     "metadata": {},
     "output_type": "execute_result"
    }
   ],
   "source": [
    "df[df.duplicated()]"
   ]
  },
  {
   "cell_type": "markdown",
   "metadata": {},
   "source": [
    "# g. Correlation – Heatmap - All Numeric Variables"
   ]
  },
  {
   "cell_type": "code",
   "execution_count": 10,
   "metadata": {},
   "outputs": [
    {
     "data": {
      "image/png": "[encoded data removed]",
      "text/plain": [
       "<Figure size 432x288 with 2 Axes>"
      ]
     },
     "metadata": {
      "needs_background": "light"
     },
     "output_type": "display_data"
    }
   ],
   "source": [
    "corr=df.corr()\n",
    "sns.heatmap(corr,cmap='coolwarm',annot=True);\n"
   ]
  },
  {
   "cell_type": "markdown",
   "metadata": {},
   "source": [
    "# h. Regression Plot - All Numeric Variables"
   ]
  },
  {
   "cell_type": "code",
   "execution_count": 12,
   "metadata": {},
   "outputs": [
    {
     "data": {
      "image/png": "[encoded data removed]",
      "text/plain": [
       "<Figure size 432x288 with 1 Axes>"
      ]
     },
     "metadata": {
      "needs_background": "light"
     },
     "output_type": "display_data"
    }
   ],
   "source": [
    "sns.regplot(x='Quantity',y='UnitPrice',ci=None,data=df);"
   ]
  },
  {
   "cell_type": "markdown",
   "metadata": {},
   "source": [
    "# i. Bar Plot – Every Categorical Variable vs every Numerical Variable "
   ]
  },
  {
   "cell_type": "code",
   "execution_count": 14,
   "metadata": {},
   "outputs": [
    {
     "data": {
      "image/png": "[encoded data removed]",
      "text/plain": [
       "<Figure size 432x288 with 1 Axes>"
      ]
     },
     "metadata": {
      "needs_background": "light"
     },
     "output_type": "display_data"
    }
   ],
   "source": [
    "sns.barplot(y='Country',x='UnitPrice',ci=None,data=df);"
   ]
  },
  {
   "cell_type": "markdown",
   "metadata": {},
   "source": [
    "# j. Pair plot - All Numeric Variables "
   ]
  },
  {
   "cell_type": "code",
   "execution_count": 15,
   "metadata": {},
   "outputs": [
    {
     "data": {
      "text/plain": [
       "<seaborn.axisgrid.PairGrid at 0x13317ca0>"
      ]
     },
     "execution_count": 15,
     "metadata": {},
     "output_type": "execute_result"
    },
    {
     "data": {
      "image/png": "[encoded data removed]",
      "text/plain": [
       "<Figure size 540x540 with 12 Axes>"
      ]
     },
     "metadata": {
      "needs_background": "light"
     },
     "output_type": "display_data"
    }
   ],
   "source": [
    "sns.pairplot(df)"
   ]
  },
  {
   "cell_type": "markdown",
   "metadata": {},
   "source": [
    "# k. Line chart to show the trend of data - All Numeric/Date Variables \n"
   ]
  },
  {
   "cell_type": "code",
   "execution_count": 16,
   "metadata": {},
   "outputs": [
    {
     "data": {
      "text/plain": [
       "Text(0, 0.5, 'UnitPrice')"
      ]
     },
     "execution_count": 16,
     "metadata": {},
     "output_type": "execute_result"
    },
    {
     "data": {
      "image/png": "[encoded data removed]",
      "text/plain": [
       "<Figure size 432x288 with 2 Axes>"
      ]
     },
     "metadata": {
      "needs_background": "light"
     },
     "output_type": "display_data"
    }
   ],
   "source": [
    "plt.subplot(2,1,1)\n",
    "plt.plot(df['Quantity'],df['UnitPrice'])\n",
    "plt.xlabel('Quantity')\n",
    "plt.ylabel('UnitPrice')\n",
    "plt.subplot(2,1,2)\n",
    "plt.plot(df['CustomerID'],df['UnitPrice'])\n",
    "plt.xlabel('CustomerID')\n",
    "plt.ylabel('UnitPrice')\n"
   ]
  },
  {
   "cell_type": "markdown",
   "metadata": {},
   "source": [
    "# l. Plot the skewness - All Numeric Variables"
   ]
  },
  {
   "cell_type": "code",
   "execution_count": 17,
   "metadata": {},
   "outputs": [
    {
     "data": {
      "text/plain": [
       "Quantity       -0.264076\n",
       "UnitPrice     186.506972\n",
       "CustomerID      0.029835\n",
       "dtype: float64"
      ]
     },
     "execution_count": 17,
     "metadata": {},
     "output_type": "execute_result"
    }
   ],
   "source": [
    "df.skew()"
   ]
  },
  {
   "cell_type": "markdown",
   "metadata": {},
   "source": [
    "# 2. Check for missing values in all columns and replace them with the appropriate metric\n",
    "(Mean/Median/Mode) "
   ]
  },
  {
   "cell_type": "code",
   "execution_count": 18,
   "metadata": {},
   "outputs": [
    {
     "name": "stdout",
     "output_type": "stream",
     "text": [
      "InvoiceNo           0\n",
      "StockCode           0\n",
      "Description      1454\n",
      "Quantity            0\n",
      "InvoiceDate         0\n",
      "UnitPrice           0\n",
      "CustomerID     135080\n",
      "Country             0\n",
      "dtype: int64\n"
     ]
    }
   ],
   "source": [
    "print(df.isnull().sum())"
   ]
  },
  {
   "cell_type": "code",
   "execution_count": 19,
   "metadata": {},
   "outputs": [
    {
     "data": {
      "text/plain": [
       "0         17850.0\n",
       "1         17850.0\n",
       "2         17850.0\n",
       "3         17850.0\n",
       "4         17850.0\n",
       "           ...   \n",
       "541904    12680.0\n",
       "541905    12680.0\n",
       "541906    12680.0\n",
       "541907    12680.0\n",
       "541908    12680.0\n",
       "Name: CustomerID, Length: 541909, dtype: float64"
      ]
     },
     "execution_count": 19,
     "metadata": {},
     "output_type": "execute_result"
    }
   ],
   "source": [
    "df['CustomerID'].fillna((df['CustomerID'].mean()))"
   ]
  },
  {
   "cell_type": "markdown",
   "metadata": {},
   "source": [
    "# 3. Remove duplicate rows"
   ]
  },
  {
   "cell_type": "code",
   "execution_count": 20,
   "metadata": {},
   "outputs": [
    {
     "data": {
      "text/plain": [
       "107                       GIRLY PINK TOOL SET\n",
       "1985             PORCELAIN HANGING BELL SMALL\n",
       "2313      PINK MARSHMALLOW SCARF KNITTING KIT\n",
       "3414             CAKESTAND, 3 TIER, LOVEHEART\n",
       "3415                     GLASS BELL JAR SMALL\n",
       "                         ...                 \n",
       "527065              LETTER \"U\" BLING KEY RING\n",
       "532723                                    wet\n",
       "532724                              wet boxes\n",
       "535327                        ????damages????\n",
       "535335                                   lost\n",
       "Name: Description, Length: 308, dtype: object"
      ]
     },
     "execution_count": 20,
     "metadata": {},
     "output_type": "execute_result"
    }
   ],
   "source": [
    "df.drop_duplicates(subset ='Description',keep = False,inplace = True)\n",
    "df.Description\n"
   ]
  },
  {
   "cell_type": "markdown",
   "metadata": {},
   "source": [
    "# 4. Remove rows which have negative values in Quantity column \n"
   ]
  },
  {
   "cell_type": "code",
   "execution_count": 21,
   "metadata": {},
   "outputs": [
    {
     "name": "stdout",
     "output_type": "stream",
     "text": [
      "       InvoiceNo StockCode                          Description  Quantity  \\\n",
      "107       536381     84854                  GIRLY PINK TOOL SET         5   \n",
      "2313      536576     82615  PINK MARSHMALLOW SCARF KNITTING KIT        36   \n",
      "3414      536627     22776         CAKESTAND, 3 TIER, LOVEHEART         2   \n",
      "3415      536627     22778                 GLASS BELL JAR SMALL         4   \n",
      "3416      536627     22777                 GLASS BELL JAR LARGE         2   \n",
      "...          ...       ...                                  ...       ...   \n",
      "501156    578824     84550       CROCHET LILAC/RED BEAR KEYRING         1   \n",
      "502046    578833    84971l          LARGE HEART FLOWERS HOOK            2   \n",
      "507867    579187     23609       SET 10 CARDS SNOWY ROBIN 17099         1   \n",
      "512588    579512     23617  SET 10 CARDS SWIRLY XMAS TREE 17104         2   \n",
      "527065    580691    90214U            LETTER \"U\" BLING KEY RING        12   \n",
      "\n",
      "             InvoiceDate  UnitPrice  CustomerID         Country  \n",
      "107        12-01-10 9:41       4.95     15311.0  United Kingdom  \n",
      "2313      12-01-10 16:11       2.55     13777.0  United Kingdom  \n",
      "3414      12-02-10 10:53       9.95     15658.0  United Kingdom  \n",
      "3415      12-02-10 10:53       3.95     15658.0  United Kingdom  \n",
      "3416      12-02-10 10:53       8.50     15658.0  United Kingdom  \n",
      "...                  ...        ...         ...             ...  \n",
      "501156  11/25/2011 14:02       1.65     17883.0  United Kingdom  \n",
      "502046  11/25/2011 15:23       2.46         NaN  United Kingdom  \n",
      "507867  11/28/2011 15:31       2.91         NaN  United Kingdom  \n",
      "512588  11/29/2011 16:47       2.91         NaN  United Kingdom  \n",
      "527065    12-05-11 15:48       0.29     13790.0  United Kingdom  \n",
      "\n",
      "[194 rows x 8 columns]\n"
     ]
    }
   ],
   "source": [
    "df = df[(df['Quantity'] >=0)| (df['Quantity'].isnull())]\n",
    "print(df)\n"
   ]
  },
  {
   "cell_type": "markdown",
   "metadata": {},
   "source": [
    "# 5. Add the columns - Month, Day and Hour for the invoice"
   ]
  },
  {
   "cell_type": "code",
   "execution_count": 22,
   "metadata": {},
   "outputs": [
    {
     "name": "stderr",
     "output_type": "stream",
     "text": [
      "<ipython-input-22-3b4cc16332eb>:1: SettingWithCopyWarning: \n",
      "A value is trying to be set on a copy of a slice from a DataFrame.\n",
      "Try using .loc[row_indexer,col_indexer] = value instead\n",
      "\n",
      "See the caveats in the documentation: https://pandas.pydata.org/pandas-docs/stable/user_guide/indexing.html#returning-a-view-versus-a-copy\n",
      "  df['InvoiceDate'] = pd.to_datetime(df['InvoiceDate'])\n"
     ]
    },
    {
     "data": {
      "text/plain": [
       "107      2010-12-01 09:41:00\n",
       "2313     2010-12-01 16:11:00\n",
       "3414     2010-12-02 10:53:00\n",
       "3415     2010-12-02 10:53:00\n",
       "3416     2010-12-02 10:53:00\n",
       "                 ...        \n",
       "501156   2011-11-25 14:02:00\n",
       "502046   2011-11-25 15:23:00\n",
       "507867   2011-11-28 15:31:00\n",
       "512588   2011-11-29 16:47:00\n",
       "527065   2011-12-05 15:48:00\n",
       "Name: InvoiceDate, Length: 194, dtype: datetime64[ns]"
      ]
     },
     "execution_count": 22,
     "metadata": {},
     "output_type": "execute_result"
    }
   ],
   "source": [
    "df['InvoiceDate'] = pd.to_datetime(df['InvoiceDate'])\n",
    "df['InvoiceDate']\n"
   ]
  },
  {
   "cell_type": "code",
   "execution_count": 37,
   "metadata": {},
   "outputs": [
    {
     "name": "stderr",
     "output_type": "stream",
     "text": [
      "<ipython-input-37-5b3e67e92523>:1: SettingWithCopyWarning: \n",
      "A value is trying to be set on a copy of a slice from a DataFrame.\n",
      "Try using .loc[row_indexer,col_indexer] = value instead\n",
      "\n",
      "See the caveats in the documentation: https://pandas.pydata.org/pandas-docs/stable/user_guide/indexing.html#returning-a-view-versus-a-copy\n",
      "  df['day']=df['InvoiceDate'].dt.day\n",
      "<ipython-input-37-5b3e67e92523>:2: SettingWithCopyWarning: \n",
      "A value is trying to be set on a copy of a slice from a DataFrame.\n",
      "Try using .loc[row_indexer,col_indexer] = value instead\n",
      "\n",
      "See the caveats in the documentation: https://pandas.pydata.org/pandas-docs/stable/user_guide/indexing.html#returning-a-view-versus-a-copy\n",
      "  df['month']=df['InvoiceDate'].dt.month\n",
      "<ipython-input-37-5b3e67e92523>:3: SettingWithCopyWarning: \n",
      "A value is trying to be set on a copy of a slice from a DataFrame.\n",
      "Try using .loc[row_indexer,col_indexer] = value instead\n",
      "\n",
      "See the caveats in the documentation: https://pandas.pydata.org/pandas-docs/stable/user_guide/indexing.html#returning-a-view-versus-a-copy\n",
      "  df['year']=df['InvoiceDate'].dt.year\n",
      "<ipython-input-37-5b3e67e92523>:4: SettingWithCopyWarning: \n",
      "A value is trying to be set on a copy of a slice from a DataFrame.\n",
      "Try using .loc[row_indexer,col_indexer] = value instead\n",
      "\n",
      "See the caveats in the documentation: https://pandas.pydata.org/pandas-docs/stable/user_guide/indexing.html#returning-a-view-versus-a-copy\n",
      "  df['hour']=df['InvoiceDate'].dt.year\n"
     ]
    },
    {
     "data": {
      "text/html": [
       "<div>\n",
       "<style scoped>\n",
       "    .dataframe tbody tr th:only-of-type {\n",
       "        vertical-align: middle;\n",
       "    }\n",
       "\n",
       "    .dataframe tbody tr th {\n",
       "        vertical-align: top;\n",
       "    }\n",
       "\n",
       "    .dataframe thead th {\n",
       "        text-align: right;\n",
       "    }\n",
       "</style>\n",
       "<table border=\"1\" class=\"dataframe\">\n",
       "  <thead>\n",
       "    <tr style=\"text-align: right;\">\n",
       "      <th></th>\n",
       "      <th>InvoiceNo</th>\n",
       "      <th>StockCode</th>\n",
       "      <th>Description</th>\n",
       "      <th>Quantity</th>\n",
       "      <th>InvoiceDate</th>\n",
       "      <th>UnitPrice</th>\n",
       "      <th>CustomerID</th>\n",
       "      <th>Country</th>\n",
       "      <th>day</th>\n",
       "      <th>month</th>\n",
       "      <th>year</th>\n",
       "      <th>amount_spent</th>\n",
       "      <th>hour</th>\n",
       "    </tr>\n",
       "  </thead>\n",
       "  <tbody>\n",
       "    <tr>\n",
       "      <th>107</th>\n",
       "      <td>536381</td>\n",
       "      <td>84854</td>\n",
       "      <td>GIRLY PINK TOOL SET</td>\n",
       "      <td>5</td>\n",
       "      <td>2010-12-01 09:41:00</td>\n",
       "      <td>4.95</td>\n",
       "      <td>15311.0</td>\n",
       "      <td>United Kingdom</td>\n",
       "      <td>1</td>\n",
       "      <td>12</td>\n",
       "      <td>2010</td>\n",
       "      <td>24.75</td>\n",
       "      <td>2010</td>\n",
       "    </tr>\n",
       "    <tr>\n",
       "      <th>2313</th>\n",
       "      <td>536576</td>\n",
       "      <td>82615</td>\n",
       "      <td>PINK MARSHMALLOW SCARF KNITTING KIT</td>\n",
       "      <td>36</td>\n",
       "      <td>2010-12-01 16:11:00</td>\n",
       "      <td>2.55</td>\n",
       "      <td>13777.0</td>\n",
       "      <td>United Kingdom</td>\n",
       "      <td>1</td>\n",
       "      <td>12</td>\n",
       "      <td>2010</td>\n",
       "      <td>91.80</td>\n",
       "      <td>2010</td>\n",
       "    </tr>\n",
       "    <tr>\n",
       "      <th>3414</th>\n",
       "      <td>536627</td>\n",
       "      <td>22776</td>\n",
       "      <td>CAKESTAND, 3 TIER, LOVEHEART</td>\n",
       "      <td>2</td>\n",
       "      <td>2010-12-02 10:53:00</td>\n",
       "      <td>9.95</td>\n",
       "      <td>15658.0</td>\n",
       "      <td>United Kingdom</td>\n",
       "      <td>2</td>\n",
       "      <td>12</td>\n",
       "      <td>2010</td>\n",
       "      <td>19.90</td>\n",
       "      <td>2010</td>\n",
       "    </tr>\n",
       "    <tr>\n",
       "      <th>3415</th>\n",
       "      <td>536627</td>\n",
       "      <td>22778</td>\n",
       "      <td>GLASS BELL JAR SMALL</td>\n",
       "      <td>4</td>\n",
       "      <td>2010-12-02 10:53:00</td>\n",
       "      <td>3.95</td>\n",
       "      <td>15658.0</td>\n",
       "      <td>United Kingdom</td>\n",
       "      <td>2</td>\n",
       "      <td>12</td>\n",
       "      <td>2010</td>\n",
       "      <td>15.80</td>\n",
       "      <td>2010</td>\n",
       "    </tr>\n",
       "    <tr>\n",
       "      <th>3416</th>\n",
       "      <td>536627</td>\n",
       "      <td>22777</td>\n",
       "      <td>GLASS BELL JAR LARGE</td>\n",
       "      <td>2</td>\n",
       "      <td>2010-12-02 10:53:00</td>\n",
       "      <td>8.50</td>\n",
       "      <td>15658.0</td>\n",
       "      <td>United Kingdom</td>\n",
       "      <td>2</td>\n",
       "      <td>12</td>\n",
       "      <td>2010</td>\n",
       "      <td>17.00</td>\n",
       "      <td>2010</td>\n",
       "    </tr>\n",
       "    <tr>\n",
       "      <th>...</th>\n",
       "      <td>...</td>\n",
       "      <td>...</td>\n",
       "      <td>...</td>\n",
       "      <td>...</td>\n",
       "      <td>...</td>\n",
       "      <td>...</td>\n",
       "      <td>...</td>\n",
       "      <td>...</td>\n",
       "      <td>...</td>\n",
       "      <td>...</td>\n",
       "      <td>...</td>\n",
       "      <td>...</td>\n",
       "      <td>...</td>\n",
       "    </tr>\n",
       "    <tr>\n",
       "      <th>501156</th>\n",
       "      <td>578824</td>\n",
       "      <td>84550</td>\n",
       "      <td>CROCHET LILAC/RED BEAR KEYRING</td>\n",
       "      <td>1</td>\n",
       "      <td>2011-11-25 14:02:00</td>\n",
       "      <td>1.65</td>\n",
       "      <td>17883.0</td>\n",
       "      <td>United Kingdom</td>\n",
       "      <td>25</td>\n",
       "      <td>11</td>\n",
       "      <td>2011</td>\n",
       "      <td>1.65</td>\n",
       "      <td>2011</td>\n",
       "    </tr>\n",
       "    <tr>\n",
       "      <th>502046</th>\n",
       "      <td>578833</td>\n",
       "      <td>84971l</td>\n",
       "      <td>LARGE HEART FLOWERS HOOK</td>\n",
       "      <td>2</td>\n",
       "      <td>2011-11-25 15:23:00</td>\n",
       "      <td>2.46</td>\n",
       "      <td>NaN</td>\n",
       "      <td>United Kingdom</td>\n",
       "      <td>25</td>\n",
       "      <td>11</td>\n",
       "      <td>2011</td>\n",
       "      <td>4.92</td>\n",
       "      <td>2011</td>\n",
       "    </tr>\n",
       "    <tr>\n",
       "      <th>507867</th>\n",
       "      <td>579187</td>\n",
       "      <td>23609</td>\n",
       "      <td>SET 10 CARDS SNOWY ROBIN 17099</td>\n",
       "      <td>1</td>\n",
       "      <td>2011-11-28 15:31:00</td>\n",
       "      <td>2.91</td>\n",
       "      <td>NaN</td>\n",
       "      <td>United Kingdom</td>\n",
       "      <td>28</td>\n",
       "      <td>11</td>\n",
       "      <td>2011</td>\n",
       "      <td>2.91</td>\n",
       "      <td>2011</td>\n",
       "    </tr>\n",
       "    <tr>\n",
       "      <th>512588</th>\n",
       "      <td>579512</td>\n",
       "      <td>23617</td>\n",
       "      <td>SET 10 CARDS SWIRLY XMAS TREE 17104</td>\n",
       "      <td>2</td>\n",
       "      <td>2011-11-29 16:47:00</td>\n",
       "      <td>2.91</td>\n",
       "      <td>NaN</td>\n",
       "      <td>United Kingdom</td>\n",
       "      <td>29</td>\n",
       "      <td>11</td>\n",
       "      <td>2011</td>\n",
       "      <td>5.82</td>\n",
       "      <td>2011</td>\n",
       "    </tr>\n",
       "    <tr>\n",
       "      <th>527065</th>\n",
       "      <td>580691</td>\n",
       "      <td>90214U</td>\n",
       "      <td>LETTER \"U\" BLING KEY RING</td>\n",
       "      <td>12</td>\n",
       "      <td>2011-12-05 15:48:00</td>\n",
       "      <td>0.29</td>\n",
       "      <td>13790.0</td>\n",
       "      <td>United Kingdom</td>\n",
       "      <td>5</td>\n",
       "      <td>12</td>\n",
       "      <td>2011</td>\n",
       "      <td>3.48</td>\n",
       "      <td>2011</td>\n",
       "    </tr>\n",
       "  </tbody>\n",
       "</table>\n",
       "<p>194 rows × 13 columns</p>\n",
       "</div>"
      ],
      "text/plain": [
       "       InvoiceNo StockCode                          Description  Quantity  \\\n",
       "107       536381     84854                  GIRLY PINK TOOL SET         5   \n",
       "2313      536576     82615  PINK MARSHMALLOW SCARF KNITTING KIT        36   \n",
       "3414      536627     22776         CAKESTAND, 3 TIER, LOVEHEART         2   \n",
       "3415      536627     22778                 GLASS BELL JAR SMALL         4   \n",
       "3416      536627     22777                 GLASS BELL JAR LARGE         2   \n",
       "...          ...       ...                                  ...       ...   \n",
       "501156    578824     84550       CROCHET LILAC/RED BEAR KEYRING         1   \n",
       "502046    578833    84971l          LARGE HEART FLOWERS HOOK            2   \n",
       "507867    579187     23609       SET 10 CARDS SNOWY ROBIN 17099         1   \n",
       "512588    579512     23617  SET 10 CARDS SWIRLY XMAS TREE 17104         2   \n",
       "527065    580691    90214U            LETTER \"U\" BLING KEY RING        12   \n",
       "\n",
       "               InvoiceDate  UnitPrice  CustomerID         Country  day  month  \\\n",
       "107    2010-12-01 09:41:00       4.95     15311.0  United Kingdom    1     12   \n",
       "2313   2010-12-01 16:11:00       2.55     13777.0  United Kingdom    1     12   \n",
       "3414   2010-12-02 10:53:00       9.95     15658.0  United Kingdom    2     12   \n",
       "3415   2010-12-02 10:53:00       3.95     15658.0  United Kingdom    2     12   \n",
       "3416   2010-12-02 10:53:00       8.50     15658.0  United Kingdom    2     12   \n",
       "...                    ...        ...         ...             ...  ...    ...   \n",
       "501156 2011-11-25 14:02:00       1.65     17883.0  United Kingdom   25     11   \n",
       "502046 2011-11-25 15:23:00       2.46         NaN  United Kingdom   25     11   \n",
       "507867 2011-11-28 15:31:00       2.91         NaN  United Kingdom   28     11   \n",
       "512588 2011-11-29 16:47:00       2.91         NaN  United Kingdom   29     11   \n",
       "527065 2011-12-05 15:48:00       0.29     13790.0  United Kingdom    5     12   \n",
       "\n",
       "        year  amount_spent  hour  \n",
       "107     2010         24.75  2010  \n",
       "2313    2010         91.80  2010  \n",
       "3414    2010         19.90  2010  \n",
       "3415    2010         15.80  2010  \n",
       "3416    2010         17.00  2010  \n",
       "...      ...           ...   ...  \n",
       "501156  2011          1.65  2011  \n",
       "502046  2011          4.92  2011  \n",
       "507867  2011          2.91  2011  \n",
       "512588  2011          5.82  2011  \n",
       "527065  2011          3.48  2011  \n",
       "\n",
       "[194 rows x 13 columns]"
      ]
     },
     "execution_count": 37,
     "metadata": {},
     "output_type": "execute_result"
    }
   ],
   "source": [
    "df['day']=df['InvoiceDate'].dt.day\n",
    "df['month']=df['InvoiceDate'].dt.month\n",
    "df['year']=df['InvoiceDate'].dt.year\n",
    "df['hour']=df['InvoiceDate'].dt.year\n",
    "df\n"
   ]
  },
  {
   "cell_type": "markdown",
   "metadata": {},
   "source": [
    "# 6. How many orders made by the customers? "
   ]
  },
  {
   "cell_type": "code",
   "execution_count": 26,
   "metadata": {},
   "outputs": [
    {
     "name": "stdout",
     "output_type": "stream",
     "text": [
      "   CustomerID         Country  InvoiceNo\n",
      "0     12377.0     Switzerland          2\n",
      "1     12567.0          France          1\n",
      "2     12725.0           Italy          1\n",
      "3     12748.0  United Kingdom          1\n",
      "4     12783.0        Portugal          1\n"
     ]
    }
   ],
   "source": [
    "ef=df.groupby(by=['CustomerID','Country'], as_index=False)['InvoiceNo'].count().head()\n",
    "print(ef)\n"
   ]
  },
  {
   "cell_type": "markdown",
   "metadata": {},
   "source": [
    "# 7. TOP 5 customers with higher number of orders "
   ]
  },
  {
   "cell_type": "code",
   "execution_count": 42,
   "metadata": {},
   "outputs": [
    {
     "name": "stdout",
     "output_type": "stream",
     "text": [
      "The TOP 5 customers with most number of orders...\n"
     ]
    },
    {
     "data": {
      "text/html": [
       "<div>\n",
       "<style scoped>\n",
       "    .dataframe tbody tr th:only-of-type {\n",
       "        vertical-align: middle;\n",
       "    }\n",
       "\n",
       "    .dataframe tbody tr th {\n",
       "        vertical-align: top;\n",
       "    }\n",
       "\n",
       "    .dataframe thead th {\n",
       "        text-align: right;\n",
       "    }\n",
       "</style>\n",
       "<table border=\"1\" class=\"dataframe\">\n",
       "  <thead>\n",
       "    <tr style=\"text-align: right;\">\n",
       "      <th></th>\n",
       "      <th>CustomerID</th>\n",
       "      <th>Country</th>\n",
       "      <th>InvoiceNo</th>\n",
       "    </tr>\n",
       "  </thead>\n",
       "  <tbody>\n",
       "    <tr>\n",
       "      <th>0</th>\n",
       "      <td>12377.0</td>\n",
       "      <td>Switzerland</td>\n",
       "      <td>2</td>\n",
       "    </tr>\n",
       "    <tr>\n",
       "      <th>1</th>\n",
       "      <td>12567.0</td>\n",
       "      <td>France</td>\n",
       "      <td>1</td>\n",
       "    </tr>\n",
       "    <tr>\n",
       "      <th>2</th>\n",
       "      <td>12725.0</td>\n",
       "      <td>Italy</td>\n",
       "      <td>1</td>\n",
       "    </tr>\n",
       "    <tr>\n",
       "      <th>3</th>\n",
       "      <td>12748.0</td>\n",
       "      <td>United Kingdom</td>\n",
       "      <td>1</td>\n",
       "    </tr>\n",
       "    <tr>\n",
       "      <th>4</th>\n",
       "      <td>12783.0</td>\n",
       "      <td>Portugal</td>\n",
       "      <td>1</td>\n",
       "    </tr>\n",
       "  </tbody>\n",
       "</table>\n",
       "</div>"
      ],
      "text/plain": [
       "   CustomerID         Country  InvoiceNo\n",
       "0     12377.0     Switzerland          2\n",
       "1     12567.0          France          1\n",
       "2     12725.0           Italy          1\n",
       "3     12748.0  United Kingdom          1\n",
       "4     12783.0        Portugal          1"
      ]
     },
     "execution_count": 42,
     "metadata": {},
     "output_type": "execute_result"
    }
   ],
   "source": [
    "print('The TOP 5 customers with most number of orders...')\n",
    "ef.sort_values(by='InvoiceNo', ascending=False).head()\n"
   ]
  },
  {
   "cell_type": "markdown",
   "metadata": {},
   "source": [
    "# 8. How much money spent by the customers?"
   ]
  },
  {
   "cell_type": "code",
   "execution_count": 44,
   "metadata": {},
   "outputs": [],
   "source": [
    "df['amount_spent'] = df['Quantity'] * df['UnitPrice']"
   ]
  },
  {
   "cell_type": "code",
   "execution_count": 32,
   "metadata": {},
   "outputs": [
    {
     "name": "stdout",
     "output_type": "stream",
     "text": [
      "    CustomerID         Country  amount_spent\n",
      "0      12377.0     Switzerland         67.20\n",
      "1      12567.0          France        171.80\n",
      "2      12725.0           Italy         11.90\n",
      "3      12748.0  United Kingdom          1.25\n",
      "4      12783.0        Portugal         17.70\n",
      "..         ...             ...           ...\n",
      "86     18014.0  United Kingdom          1.65\n",
      "87     18018.0  United Kingdom         29.95\n",
      "88     18043.0  United Kingdom          4.65\n",
      "89     18110.0  United Kingdom          0.95\n",
      "90     18196.0  United Kingdom          2.10\n",
      "\n",
      "[91 rows x 3 columns]\n"
     ]
    }
   ],
   "source": [
    "money_spent = df.groupby(by=['CustomerID','Country'], as_index=False)['amount_spent'].sum()\n",
    "print(money_spent)\n"
   ]
  },
  {
   "cell_type": "markdown",
   "metadata": {},
   "source": [
    "# TOP 5 customers with highest money spent"
   ]
  },
  {
   "cell_type": "code",
   "execution_count": 33,
   "metadata": {},
   "outputs": [
    {
     "name": "stdout",
     "output_type": "stream",
     "text": [
      "The TOP 5 customers with highest money spent...\n"
     ]
    },
    {
     "data": {
      "text/html": [
       "<div>\n",
       "<style scoped>\n",
       "    .dataframe tbody tr th:only-of-type {\n",
       "        vertical-align: middle;\n",
       "    }\n",
       "\n",
       "    .dataframe tbody tr th {\n",
       "        vertical-align: top;\n",
       "    }\n",
       "\n",
       "    .dataframe thead th {\n",
       "        text-align: right;\n",
       "    }\n",
       "</style>\n",
       "<table border=\"1\" class=\"dataframe\">\n",
       "  <thead>\n",
       "    <tr style=\"text-align: right;\">\n",
       "      <th></th>\n",
       "      <th>CustomerID</th>\n",
       "      <th>Country</th>\n",
       "      <th>amount_spent</th>\n",
       "    </tr>\n",
       "  </thead>\n",
       "  <tbody>\n",
       "    <tr>\n",
       "      <th>18</th>\n",
       "      <td>14156.0</td>\n",
       "      <td>EIRE</td>\n",
       "      <td>2234.65</td>\n",
       "    </tr>\n",
       "    <tr>\n",
       "      <th>44</th>\n",
       "      <td>15299.0</td>\n",
       "      <td>United Kingdom</td>\n",
       "      <td>527.85</td>\n",
       "    </tr>\n",
       "    <tr>\n",
       "      <th>1</th>\n",
       "      <td>12567.0</td>\n",
       "      <td>France</td>\n",
       "      <td>171.80</td>\n",
       "    </tr>\n",
       "    <tr>\n",
       "      <th>68</th>\n",
       "      <td>16915.0</td>\n",
       "      <td>United Kingdom</td>\n",
       "      <td>149.85</td>\n",
       "    </tr>\n",
       "    <tr>\n",
       "      <th>50</th>\n",
       "      <td>15502.0</td>\n",
       "      <td>United Kingdom</td>\n",
       "      <td>119.60</td>\n",
       "    </tr>\n",
       "  </tbody>\n",
       "</table>\n",
       "</div>"
      ],
      "text/plain": [
       "    CustomerID         Country  amount_spent\n",
       "18     14156.0            EIRE       2234.65\n",
       "44     15299.0  United Kingdom        527.85\n",
       "1      12567.0          France        171.80\n",
       "68     16915.0  United Kingdom        149.85\n",
       "50     15502.0  United Kingdom        119.60"
      ]
     },
     "execution_count": 33,
     "metadata": {},
     "output_type": "execute_result"
    }
   ],
   "source": [
    "print('The TOP 5 customers with highest money spent...')\n",
    "money_spent.sort_values(by='amount_spent', ascending=False).head()\n",
    "\n"
   ]
  },
  {
   "cell_type": "markdown",
   "metadata": {},
   "source": [
    "# 10. How many orders per month?"
   ]
  },
  {
   "cell_type": "code",
   "execution_count": 34,
   "metadata": {},
   "outputs": [
    {
     "name": "stdout",
     "output_type": "stream",
     "text": [
      "[1]      8\n",
      "[2]      8\n",
      "[3]     13\n",
      "[4]      7\n",
      "[5]     13\n",
      "[6]      8\n",
      "[7]     13\n",
      "[8]      7\n",
      "[9]     11\n",
      "[10]    17\n",
      "[11]    17\n",
      "[12]    52\n",
      "Name: month, dtype: int64\n"
     ]
    }
   ],
   "source": [
    "ax = df.groupby('InvoiceDate')['month'].unique().value_counts().sort_index()\n",
    "print(ax)\n"
   ]
  },
  {
   "cell_type": "markdown",
   "metadata": {},
   "source": [
    "# 11. How many orders per day? "
   ]
  },
  {
   "cell_type": "code",
   "execution_count": 35,
   "metadata": {},
   "outputs": [
    {
     "name": "stdout",
     "output_type": "stream",
     "text": [
      "[1]      6\n",
      "[2]      5\n",
      "[3]      5\n",
      "[4]      3\n",
      "[5]      9\n",
      "[6]     12\n",
      "[7]      9\n",
      "[8]      3\n",
      "[9]      2\n",
      "[10]     5\n",
      "[11]     7\n",
      "[12]     5\n",
      "[13]    10\n",
      "[14]    11\n",
      "[15]     8\n",
      "[16]     7\n",
      "[17]     7\n",
      "[18]     7\n",
      "[19]     6\n",
      "[20]     4\n",
      "[21]     4\n",
      "[22]     3\n",
      "[23]     3\n",
      "[24]     6\n",
      "[25]     6\n",
      "[26]     2\n",
      "[27]     6\n",
      "[28]     6\n",
      "[29]     1\n",
      "[30]     1\n",
      "[31]     5\n",
      "Name: day, dtype: int64\n"
     ]
    }
   ],
   "source": [
    "ax = df.groupby('InvoiceDate')['day'].unique().value_counts().sort_index()\n",
    "print(ax)"
   ]
  },
  {
   "cell_type": "code",
   "execution_count": 38,
   "metadata": {},
   "outputs": [
    {
     "name": "stdout",
     "output_type": "stream",
     "text": [
      "[2010]     51\n",
      "[2011]    123\n",
      "Name: hour, dtype: int64\n"
     ]
    }
   ],
   "source": [
    "ax = df.groupby('InvoiceDate')['hour'].unique().value_counts().sort_index()\n",
    "print(ax)"
   ]
  },
  {
   "cell_type": "markdown",
   "metadata": {},
   "source": [
    "# 13. How many orders for each country? "
   ]
  },
  {
   "cell_type": "code",
   "execution_count": 39,
   "metadata": {},
   "outputs": [
    {
     "name": "stdout",
     "output_type": "stream",
     "text": [
      "Country\n",
      "France              1\n",
      "Italy               1\n",
      "Lithuania           1\n",
      "Portugal            1\n",
      "Switzerland         2\n",
      "Netherlands         3\n",
      "EIRE                9\n",
      "United Kingdom    176\n",
      "Name: InvoiceNo, dtype: int64\n"
     ]
    }
   ],
   "source": [
    "group_country_orders = df.groupby('Country')['InvoiceNo'].count().sort_values()\n",
    "print(group_country_orders)\n"
   ]
  },
  {
   "cell_type": "markdown",
   "metadata": {},
   "source": [
    "# . How much money spent by each country? "
   ]
  },
  {
   "cell_type": "code",
   "execution_count": 45,
   "metadata": {},
   "outputs": [
    {
     "name": "stdout",
     "output_type": "stream",
     "text": [
      "      CustomerID         Country  amount_spent\n",
      "0        12346.0  United Kingdom          0.00\n",
      "1        12347.0         Iceland       4310.00\n",
      "2        12348.0         Finland       1797.24\n",
      "3        12349.0           Italy       1757.55\n",
      "4        12350.0          Norway        334.40\n",
      "...          ...             ...           ...\n",
      "4375     18280.0  United Kingdom        180.60\n",
      "4376     18281.0  United Kingdom         80.82\n",
      "4377     18282.0  United Kingdom        176.60\n",
      "4378     18283.0  United Kingdom       2094.88\n",
      "4379     18287.0  United Kingdom       1837.28\n",
      "\n",
      "[4380 rows x 3 columns]\n"
     ]
    }
   ],
   "source": [
    "money_spent = df.groupby(by=['CustomerID','Country'], as_index=False)['amount_spent'].sum()\n",
    "print(money_spent)\n"
   ]
  }
 ],
 "metadata": {
  "kernelspec": {
   "display_name": "Python 3",
   "language": "python",
   "name": "python3"
  },
  "language_info": {
   "codemirror_mode": {
    "name": "ipython",
    "version": 3
   },
   "file_extension": ".py",
   "mimetype": "text/x-python",
   "name": "python",
   "nbconvert_exporter": "python",
   "pygments_lexer": "ipython3",
   "version": "3.8.3"
  }
 },
 "nbformat": 4,
 "nbformat_minor": 4
}
